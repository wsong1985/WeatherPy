{
 "cells": [
  {
   "cell_type": "markdown",
   "metadata": {},
   "source": [
    "# Deliverable 3. Create a Travel Itinerary Map.\n",
    "----\n",
    "1. Import the vacation CSV file. \n",
    "2. From the map above with pick 4 cities that are in close proximity (on the same continent) that the customer would travel to and create a directions layer map.\n",
    "3. For the \"travel_mode\" use either \"DRIVING\", \"BICYCLING\", or \"WALKING\".\n",
    "4. Take a screenshot of the route and save it. \n",
    "5. Then create a marker layer for the four cities. Each city will should have a pop-up marker that contains\n",
    "    - The hotel name\n",
    "    - The city\n",
    "    - The country\n",
    "    - The current weather description and the maximum temperature\n",
    "---"
   ]
  },
  {
   "cell_type": "markdown",
   "metadata": {},
   "source": [
    "## Make sure the initial dependencies and the Google API key are imported."
   ]
  },
  {
   "cell_type": "code",
   "execution_count": 5,
   "metadata": {},
   "outputs": [],
   "source": [
    "# Dependencies and Setup\n",
    "import pandas as pd\n",
    "import requests\n",
    "import gmaps\n",
    "\n",
    "# Import API key\n",
    "from config import g_key"
   ]
  },
  {
   "cell_type": "code",
   "execution_count": 6,
   "metadata": {},
   "outputs": [],
   "source": [
    "# Configure gmaps\n",
    "gmaps.configure(api_key=g_key)"
   ]
  },
  {
   "cell_type": "markdown",
   "metadata": {},
   "source": [
    "## From your `Vacation_Search` folder from Deliverable 2, import the `WeatherPy_vacation.csv` file as a DataFrame named `vacation_df`"
   ]
  },
  {
   "cell_type": "code",
   "execution_count": 7,
   "metadata": {},
   "outputs": [
    {
     "data": {
      "text/html": [
       "<div>\n",
       "<style scoped>\n",
       "    .dataframe tbody tr th:only-of-type {\n",
       "        vertical-align: middle;\n",
       "    }\n",
       "\n",
       "    .dataframe tbody tr th {\n",
       "        vertical-align: top;\n",
       "    }\n",
       "\n",
       "    .dataframe thead th {\n",
       "        text-align: right;\n",
       "    }\n",
       "</style>\n",
       "<table border=\"1\" class=\"dataframe\">\n",
       "  <thead>\n",
       "    <tr style=\"text-align: right;\">\n",
       "      <th></th>\n",
       "      <th>City_ID</th>\n",
       "      <th>City</th>\n",
       "      <th>Country</th>\n",
       "      <th>Max Temp</th>\n",
       "      <th>Current Description</th>\n",
       "      <th>Lat</th>\n",
       "      <th>Lng</th>\n",
       "      <th>Hotel Name</th>\n",
       "    </tr>\n",
       "  </thead>\n",
       "  <tbody>\n",
       "    <tr>\n",
       "      <th>0</th>\n",
       "      <td>0</td>\n",
       "      <td>Puerto Ayora</td>\n",
       "      <td>EC</td>\n",
       "      <td>80.56</td>\n",
       "      <td>broken clouds</td>\n",
       "      <td>-0.7393</td>\n",
       "      <td>-90.3518</td>\n",
       "      <td>Finch Bay Galapagos Hotel</td>\n",
       "    </tr>\n",
       "    <tr>\n",
       "      <th>1</th>\n",
       "      <td>7</td>\n",
       "      <td>Kapaa</td>\n",
       "      <td>US</td>\n",
       "      <td>79.12</td>\n",
       "      <td>scattered clouds</td>\n",
       "      <td>22.0752</td>\n",
       "      <td>-159.3190</td>\n",
       "      <td>Sheraton Kauai Coconut Beach Resort</td>\n",
       "    </tr>\n",
       "    <tr>\n",
       "      <th>2</th>\n",
       "      <td>8</td>\n",
       "      <td>Faanui</td>\n",
       "      <td>PF</td>\n",
       "      <td>78.46</td>\n",
       "      <td>light rain</td>\n",
       "      <td>-16.4833</td>\n",
       "      <td>-151.7500</td>\n",
       "      <td>Bora-Bora Pearl Beach Resort &amp; Spa</td>\n",
       "    </tr>\n",
       "    <tr>\n",
       "      <th>3</th>\n",
       "      <td>10</td>\n",
       "      <td>Jacqueville</td>\n",
       "      <td>CI</td>\n",
       "      <td>80.53</td>\n",
       "      <td>few clouds</td>\n",
       "      <td>5.2052</td>\n",
       "      <td>-4.4146</td>\n",
       "      <td>Hotel Le Martin Pecheur</td>\n",
       "    </tr>\n",
       "    <tr>\n",
       "      <th>4</th>\n",
       "      <td>12</td>\n",
       "      <td>Cockburn Town</td>\n",
       "      <td>TC</td>\n",
       "      <td>84.16</td>\n",
       "      <td>scattered clouds</td>\n",
       "      <td>21.4612</td>\n",
       "      <td>-71.1419</td>\n",
       "      <td>Osprey Beach Hotel</td>\n",
       "    </tr>\n",
       "    <tr>\n",
       "      <th>5</th>\n",
       "      <td>13</td>\n",
       "      <td>Yeppoon</td>\n",
       "      <td>AU</td>\n",
       "      <td>76.78</td>\n",
       "      <td>overcast clouds</td>\n",
       "      <td>-23.1333</td>\n",
       "      <td>150.7333</td>\n",
       "      <td>Villa Mar Colina</td>\n",
       "    </tr>\n",
       "    <tr>\n",
       "      <th>6</th>\n",
       "      <td>18</td>\n",
       "      <td>Kahului</td>\n",
       "      <td>US</td>\n",
       "      <td>77.97</td>\n",
       "      <td>broken clouds</td>\n",
       "      <td>20.8947</td>\n",
       "      <td>-156.4700</td>\n",
       "      <td>Maui Seaside Hotel</td>\n",
       "    </tr>\n",
       "    <tr>\n",
       "      <th>7</th>\n",
       "      <td>21</td>\n",
       "      <td>Nueve De Julio</td>\n",
       "      <td>AR</td>\n",
       "      <td>85.96</td>\n",
       "      <td>clear sky</td>\n",
       "      <td>-35.4444</td>\n",
       "      <td>-60.8831</td>\n",
       "      <td>Grand Hotel Libertad - GHL</td>\n",
       "    </tr>\n",
       "    <tr>\n",
       "      <th>8</th>\n",
       "      <td>23</td>\n",
       "      <td>The Valley</td>\n",
       "      <td>AI</td>\n",
       "      <td>84.06</td>\n",
       "      <td>few clouds</td>\n",
       "      <td>18.2170</td>\n",
       "      <td>-63.0578</td>\n",
       "      <td>CeBlue Villas &amp; Beach Resort</td>\n",
       "    </tr>\n",
       "    <tr>\n",
       "      <th>9</th>\n",
       "      <td>31</td>\n",
       "      <td>Atuona</td>\n",
       "      <td>PF</td>\n",
       "      <td>77.65</td>\n",
       "      <td>clear sky</td>\n",
       "      <td>-9.8000</td>\n",
       "      <td>-139.0333</td>\n",
       "      <td>Villa Enata</td>\n",
       "    </tr>\n",
       "    <tr>\n",
       "      <th>10</th>\n",
       "      <td>38</td>\n",
       "      <td>Butaritari</td>\n",
       "      <td>KI</td>\n",
       "      <td>81.28</td>\n",
       "      <td>scattered clouds</td>\n",
       "      <td>3.0707</td>\n",
       "      <td>172.7902</td>\n",
       "      <td>Isles Sunset Lodge</td>\n",
       "    </tr>\n",
       "    <tr>\n",
       "      <th>11</th>\n",
       "      <td>42</td>\n",
       "      <td>Tres Lagoas</td>\n",
       "      <td>BR</td>\n",
       "      <td>88.39</td>\n",
       "      <td>clear sky</td>\n",
       "      <td>-20.7511</td>\n",
       "      <td>-51.6783</td>\n",
       "      <td>Druds Express Hotel</td>\n",
       "    </tr>\n",
       "    <tr>\n",
       "      <th>12</th>\n",
       "      <td>43</td>\n",
       "      <td>Natal</td>\n",
       "      <td>BR</td>\n",
       "      <td>81.25</td>\n",
       "      <td>few clouds</td>\n",
       "      <td>-5.7950</td>\n",
       "      <td>-35.2094</td>\n",
       "      <td>Villa Park Hotel | Natal</td>\n",
       "    </tr>\n",
       "    <tr>\n",
       "      <th>13</th>\n",
       "      <td>49</td>\n",
       "      <td>Vaini</td>\n",
       "      <td>TO</td>\n",
       "      <td>78.96</td>\n",
       "      <td>few clouds</td>\n",
       "      <td>-21.2000</td>\n",
       "      <td>-175.2000</td>\n",
       "      <td>Keleti Beach Resort</td>\n",
       "    </tr>\n",
       "    <tr>\n",
       "      <th>14</th>\n",
       "      <td>50</td>\n",
       "      <td>Maine-Soroa</td>\n",
       "      <td>NE</td>\n",
       "      <td>75.13</td>\n",
       "      <td>broken clouds</td>\n",
       "      <td>13.2114</td>\n",
       "      <td>12.0241</td>\n",
       "      <td>Complexe</td>\n",
       "    </tr>\n",
       "    <tr>\n",
       "      <th>15</th>\n",
       "      <td>51</td>\n",
       "      <td>Banda Aceh</td>\n",
       "      <td>ID</td>\n",
       "      <td>78.93</td>\n",
       "      <td>light rain</td>\n",
       "      <td>5.5577</td>\n",
       "      <td>95.3222</td>\n",
       "      <td>OYO 884 Rumoh PMI Hotel</td>\n",
       "    </tr>\n",
       "    <tr>\n",
       "      <th>16</th>\n",
       "      <td>56</td>\n",
       "      <td>Rawson</td>\n",
       "      <td>AR</td>\n",
       "      <td>79.18</td>\n",
       "      <td>clear sky</td>\n",
       "      <td>-43.3002</td>\n",
       "      <td>-65.1023</td>\n",
       "      <td>Hosteria Sampedro</td>\n",
       "    </tr>\n",
       "    <tr>\n",
       "      <th>17</th>\n",
       "      <td>69</td>\n",
       "      <td>Bathsheba</td>\n",
       "      <td>BB</td>\n",
       "      <td>84.81</td>\n",
       "      <td>scattered clouds</td>\n",
       "      <td>13.2167</td>\n",
       "      <td>-59.5167</td>\n",
       "      <td>Atlantis Hotel</td>\n",
       "    </tr>\n",
       "    <tr>\n",
       "      <th>18</th>\n",
       "      <td>85</td>\n",
       "      <td>Bengkulu</td>\n",
       "      <td>ID</td>\n",
       "      <td>75.52</td>\n",
       "      <td>light rain</td>\n",
       "      <td>-3.8004</td>\n",
       "      <td>102.2655</td>\n",
       "      <td>Grage Hotel Bengkulu</td>\n",
       "    </tr>\n",
       "    <tr>\n",
       "      <th>19</th>\n",
       "      <td>87</td>\n",
       "      <td>Buala</td>\n",
       "      <td>SB</td>\n",
       "      <td>82.27</td>\n",
       "      <td>light rain</td>\n",
       "      <td>-8.1450</td>\n",
       "      <td>159.5921</td>\n",
       "      <td>Maringe Lagoon Lodge</td>\n",
       "    </tr>\n",
       "  </tbody>\n",
       "</table>\n",
       "</div>"
      ],
      "text/plain": [
       "    City_ID            City Country  Max Temp Current Description      Lat  \\\n",
       "0         0    Puerto Ayora      EC     80.56       broken clouds  -0.7393   \n",
       "1         7           Kapaa      US     79.12    scattered clouds  22.0752   \n",
       "2         8          Faanui      PF     78.46          light rain -16.4833   \n",
       "3        10     Jacqueville      CI     80.53          few clouds   5.2052   \n",
       "4        12   Cockburn Town      TC     84.16    scattered clouds  21.4612   \n",
       "5        13         Yeppoon      AU     76.78     overcast clouds -23.1333   \n",
       "6        18         Kahului      US     77.97       broken clouds  20.8947   \n",
       "7        21  Nueve De Julio      AR     85.96           clear sky -35.4444   \n",
       "8        23      The Valley      AI     84.06          few clouds  18.2170   \n",
       "9        31          Atuona      PF     77.65           clear sky  -9.8000   \n",
       "10       38      Butaritari      KI     81.28    scattered clouds   3.0707   \n",
       "11       42     Tres Lagoas      BR     88.39           clear sky -20.7511   \n",
       "12       43           Natal      BR     81.25          few clouds  -5.7950   \n",
       "13       49           Vaini      TO     78.96          few clouds -21.2000   \n",
       "14       50     Maine-Soroa      NE     75.13       broken clouds  13.2114   \n",
       "15       51      Banda Aceh      ID     78.93          light rain   5.5577   \n",
       "16       56          Rawson      AR     79.18           clear sky -43.3002   \n",
       "17       69       Bathsheba      BB     84.81    scattered clouds  13.2167   \n",
       "18       85        Bengkulu      ID     75.52          light rain  -3.8004   \n",
       "19       87           Buala      SB     82.27          light rain  -8.1450   \n",
       "\n",
       "         Lng                           Hotel Name  \n",
       "0   -90.3518            Finch Bay Galapagos Hotel  \n",
       "1  -159.3190  Sheraton Kauai Coconut Beach Resort  \n",
       "2  -151.7500   Bora-Bora Pearl Beach Resort & Spa  \n",
       "3    -4.4146              Hotel Le Martin Pecheur  \n",
       "4   -71.1419                   Osprey Beach Hotel  \n",
       "5   150.7333                     Villa Mar Colina  \n",
       "6  -156.4700                   Maui Seaside Hotel  \n",
       "7   -60.8831           Grand Hotel Libertad - GHL  \n",
       "8   -63.0578         CeBlue Villas & Beach Resort  \n",
       "9  -139.0333                          Villa Enata  \n",
       "10  172.7902                   Isles Sunset Lodge  \n",
       "11  -51.6783                  Druds Express Hotel  \n",
       "12  -35.2094             Villa Park Hotel | Natal  \n",
       "13 -175.2000                  Keleti Beach Resort  \n",
       "14   12.0241                             Complexe  \n",
       "15   95.3222              OYO 884 Rumoh PMI Hotel  \n",
       "16  -65.1023                    Hosteria Sampedro  \n",
       "17  -59.5167                       Atlantis Hotel  \n",
       "18  102.2655                 Grage Hotel Bengkulu  \n",
       "19  159.5921                 Maringe Lagoon Lodge  "
      ]
     },
     "execution_count": 7,
     "metadata": {},
     "output_type": "execute_result"
    }
   ],
   "source": [
    "# Read the WeatherPy_vacation.csv into a DataFrame\n",
    "file_path = \"../Vacation_Search/WeatherPy_vacation.csv\"\n",
    "vacation_df = pd.read_csv(file_path)\n",
    "\n",
    "# Display sample data\n",
    "vacation_df.head(20)"
   ]
  },
  {
   "cell_type": "markdown",
   "metadata": {},
   "source": [
    "**Note:** If the resulting DataFrame is empty, uncomment the following code to load sample data into the `clean_hotel_df`."
   ]
  },
  {
   "cell_type": "code",
   "execution_count": 8,
   "metadata": {},
   "outputs": [],
   "source": [
    "# In case of an empty DataFrame, load the sample data provided\n",
    "# clean_hotel_df = pd.read_csv(\"WeatherPy_vacation-backup.csv\")\n",
    "# clean_hotel_df.head(10)"
   ]
  },
  {
   "cell_type": "markdown",
   "metadata": {
    "tags": []
   },
   "source": [
    "## In this step, you will set-up the pop-up markers. Review the code to create a marker layer map of the vacation search results. This code is the same as in Deliverable 2."
   ]
  },
  {
   "cell_type": "code",
   "execution_count": 9,
   "metadata": {},
   "outputs": [],
   "source": [
    "# Review the formatting template\n",
    "info_box_template = \"\"\"\n",
    "<dl>\n",
    "<dt>Hotel Name</dt><dd>{Hotel Name}</dd>\n",
    "<dt>City</dt><dd>{City}</dd>\n",
    "<dt>Country</dt><dd>{Country}</dd>\n",
    "<dt>Current Weather</dt><dd>{Current Description} and {Max Temp} °F</dd>\n",
    "</dl>\n",
    "\"\"\"\n",
    "\n",
    "# Get the data from each row and add it to the formatting template and store the data in a list\n",
    "hotel_info = [info_box_template.format(**row) for index, row in vacation_df.iterrows()]\n",
    "\n",
    "# Get the latitude and longitude from each row and store in a new DataFrame.\n",
    "locations = vacation_df[[\"Lat\", \"Lng\"]]"
   ]
  },
  {
   "cell_type": "code",
   "execution_count": 10,
   "metadata": {},
   "outputs": [
    {
     "data": {
      "application/vnd.jupyter.widget-view+json": {
       "model_id": "11b55c62590448c99cf09119603f7e42",
       "version_major": 2,
       "version_minor": 0
      },
      "text/plain": [
       "Figure(layout=FigureLayout(height='420px'))"
      ]
     },
     "metadata": {},
     "output_type": "display_data"
    }
   ],
   "source": [
    "# Add a marker layer for each city to the map.\n",
    "marker_layer = gmaps.marker_layer(locations, info_box_content=hotel_info)\n",
    "fig = gmaps.figure()\n",
    "fig.add_layer(marker_layer)\n",
    "\n",
    "# Display the figure\n",
    "fig"
   ]
  },
  {
   "cell_type": "markdown",
   "metadata": {},
   "source": [
    "## From the vacation search map, *choose four cities* that a customer might want to visit. They should be close together and in the same country."
   ]
  },
  {
   "cell_type": "code",
   "execution_count": 19,
   "metadata": {},
   "outputs": [],
   "source": [
    "# Create DataFrames for each city by filtering the 'vacation_df' using the loc method. \n",
    "# The starting and ending city should be the same city.\n",
    "vacation_start = vacation_df.loc[vacation_df[\"City\"] == \"Miraflores\"]\n",
    "vacation_end = vacation_df.loc[vacation_df[\"City\"] == \"Miraflores\"]\n",
    "vacation_stop1 = vacation_df.loc[vacation_df[\"City\"] == \"Coahuayana\"]\n",
    "vacation_stop2 = vacation_df.loc[vacation_df[\"City\"] == \"Lazaro Cardenas\"]\n",
    "vacation_stop3 = vacation_df.loc[vacation_df[\"City\"] == \"Acapulco\"]"
   ]
  },
  {
   "cell_type": "markdown",
   "metadata": {},
   "source": [
    "## Use the `to_numpy()` function and list indexing to write code to retrieve the latitude-longitude pairs as tuples from each city DataFrame."
   ]
  },
  {
   "cell_type": "code",
   "execution_count": 20,
   "metadata": {},
   "outputs": [
    {
     "name": "stdout",
     "output_type": "stream",
     "text": [
      "Start: (19.2167, -98.8083), End: (19.2167, -98.8083)\n",
      "Stop 1: (18.7333, -103.6833), Stop 2: (17.9583, -102.2), Stop 3: (16.8634, -99.8901)\n"
     ]
    }
   ],
   "source": [
    "# Get the latitude-longitude pairs as tuples from each city DataFrame using the to_numpy function and list indexing.\n",
    "start = vacation_start[\"Lat\"].to_numpy()[0],vacation_start[\"Lng\"].to_numpy()[0]\n",
    "end = vacation_end[\"Lat\"].to_numpy()[0],vacation_end[\"Lng\"].to_numpy()[0]\n",
    "stop1 = vacation_stop1[\"Lat\"].to_numpy()[0],vacation_stop1[\"Lng\"].to_numpy()[0]\n",
    "stop2 = vacation_stop2[\"Lat\"].to_numpy()[0],vacation_stop2[\"Lng\"].to_numpy()[0]\n",
    "stop3 = vacation_stop3[\"Lat\"].to_numpy()[0],vacation_stop3[\"Lng\"].to_numpy()[0]\n",
    "\n",
    "print(f'Start: {start}, End: {end}')\n",
    "print(f'Stop 1: {stop1}, Stop 2: {stop2}, Stop 3: {stop3}')"
   ]
  },
  {
   "cell_type": "markdown",
   "metadata": {},
   "source": [
    "## Use the [gmaps documentation](https://jupyter-gmaps.readthedocs.io/en/latest/tutorial.html#directions-layer) to create a directions layer map using the variables from the previous step. Where the starting and ending city are the same city, the `waypoints` are the three other cities, and the `travel_mode` is either `\"DRIVING\"`, `\"BICYCLING\"`, or `\"WALKING\"`."
   ]
  },
  {
   "cell_type": "code",
   "execution_count": 21,
   "metadata": {
    "tags": []
   },
   "outputs": [
    {
     "data": {
      "application/vnd.jupyter.widget-view+json": {
       "model_id": "d0b2df1663f945649a375d8d9a529c65",
       "version_major": 2,
       "version_minor": 0
      },
      "text/plain": [
       "Figure(layout=FigureLayout(height='420px'))"
      ]
     },
     "metadata": {},
     "output_type": "display_data"
    }
   ],
   "source": [
    "# Define a new figure object\n",
    "fig = gmaps.figure()\n",
    "\n",
    "# Create a direction layer map using the start and end latitude-longitude pairs, and stop1, stop2, and stop3 as the waypoints.\n",
    "# The travel_mode should be \"DRIVING\", \"BICYCLING\", or \"WALKING\".\n",
    "vacation_itinerary = gmaps.directions_layer(\n",
    "        start, end, waypoints=[stop1, stop2, stop3],\n",
    "        travel_mode='DRIVING')\n",
    "\n",
    "# Add the layer to the map\n",
    "fig.add_layer(vacation_itinerary)\n",
    "\n",
    "# Display the map\n",
    "fig"
   ]
  },
  {
   "cell_type": "markdown",
   "metadata": {},
   "source": [
    "## Use the provided `concat()` function code snippet to combine the four separate city DataFrames into one DataFrame."
   ]
  },
  {
   "cell_type": "code",
   "execution_count": 22,
   "metadata": {},
   "outputs": [
    {
     "data": {
      "text/html": [
       "<div>\n",
       "<style scoped>\n",
       "    .dataframe tbody tr th:only-of-type {\n",
       "        vertical-align: middle;\n",
       "    }\n",
       "\n",
       "    .dataframe tbody tr th {\n",
       "        vertical-align: top;\n",
       "    }\n",
       "\n",
       "    .dataframe thead th {\n",
       "        text-align: right;\n",
       "    }\n",
       "</style>\n",
       "<table border=\"1\" class=\"dataframe\">\n",
       "  <thead>\n",
       "    <tr style=\"text-align: right;\">\n",
       "      <th></th>\n",
       "      <th>City_ID</th>\n",
       "      <th>City</th>\n",
       "      <th>Country</th>\n",
       "      <th>Max Temp</th>\n",
       "      <th>Current Description</th>\n",
       "      <th>Lat</th>\n",
       "      <th>Lng</th>\n",
       "      <th>Hotel Name</th>\n",
       "    </tr>\n",
       "  </thead>\n",
       "  <tbody>\n",
       "    <tr>\n",
       "      <th>0</th>\n",
       "      <td>308</td>\n",
       "      <td>Miraflores</td>\n",
       "      <td>MX</td>\n",
       "      <td>78.98</td>\n",
       "      <td>clear sky</td>\n",
       "      <td>19.2167</td>\n",
       "      <td>-98.8083</td>\n",
       "      <td>Hotel Mansión</td>\n",
       "    </tr>\n",
       "    <tr>\n",
       "      <th>1</th>\n",
       "      <td>260</td>\n",
       "      <td>Coahuayana</td>\n",
       "      <td>MX</td>\n",
       "      <td>88.41</td>\n",
       "      <td>broken clouds</td>\n",
       "      <td>18.7333</td>\n",
       "      <td>-103.6833</td>\n",
       "      <td>El rranchito michuacan de ocampos</td>\n",
       "    </tr>\n",
       "    <tr>\n",
       "      <th>2</th>\n",
       "      <td>315</td>\n",
       "      <td>Lazaro Cardenas</td>\n",
       "      <td>MX</td>\n",
       "      <td>83.28</td>\n",
       "      <td>scattered clouds</td>\n",
       "      <td>17.9583</td>\n",
       "      <td>-102.2000</td>\n",
       "      <td>HOTEL QUINTA ANTIGUA</td>\n",
       "    </tr>\n",
       "    <tr>\n",
       "      <th>3</th>\n",
       "      <td>384</td>\n",
       "      <td>Acapulco</td>\n",
       "      <td>MX</td>\n",
       "      <td>85.82</td>\n",
       "      <td>clear sky</td>\n",
       "      <td>16.8634</td>\n",
       "      <td>-99.8901</td>\n",
       "      <td>HS Hotsson Smart Acapulco</td>\n",
       "    </tr>\n",
       "  </tbody>\n",
       "</table>\n",
       "</div>"
      ],
      "text/plain": [
       "   City_ID             City Country  Max Temp Current Description      Lat  \\\n",
       "0      308       Miraflores      MX     78.98           clear sky  19.2167   \n",
       "1      260       Coahuayana      MX     88.41       broken clouds  18.7333   \n",
       "2      315  Lazaro Cardenas      MX     83.28    scattered clouds  17.9583   \n",
       "3      384         Acapulco      MX     85.82           clear sky  16.8634   \n",
       "\n",
       "        Lng                         Hotel Name  \n",
       "0  -98.8083                      Hotel Mansión  \n",
       "1 -103.6833  El rranchito michuacan de ocampos  \n",
       "2 -102.2000               HOTEL QUINTA ANTIGUA  \n",
       "3  -99.8901          HS Hotsson Smart Acapulco  "
      ]
     },
     "execution_count": 22,
     "metadata": {},
     "output_type": "execute_result"
    }
   ],
   "source": [
    "#  Combine the four city DataFrames into one DataFrame using the concat() function.\n",
    "itinerary_df = pd.concat(\n",
    "    [\n",
    "        vacation_start,\n",
    "        vacation_stop1,\n",
    "        vacation_stop2,\n",
    "        vacation_stop3\n",
    "    ],\n",
    "    ignore_index = True\n",
    ")\n",
    "\n",
    "# Display sample data\n",
    "itinerary_df"
   ]
  },
  {
   "cell_type": "markdown",
   "metadata": {},
   "source": [
    "## Refactor the code from Step 6 to create a new marker layer map of the cities on the travel route."
   ]
  },
  {
   "cell_type": "code",
   "execution_count": 23,
   "metadata": {},
   "outputs": [],
   "source": [
    "# Review the formatting template\n",
    "info_box_template = \"\"\"\n",
    "<dl>\n",
    "<dt>Hotel Name</dt><dd>{Hotel Name}</dd>\n",
    "<dt>City</dt><dd>{City}</dd>\n",
    "<dt>Country</dt><dd>{Country}</dd>\n",
    "<dt>Current Weather</dt><dd>{Current Description} and {Max Temp} °F</dd>\n",
    "</dl>\n",
    "\"\"\"\n",
    "\n",
    "# Get the data from each row and add it to the formatting template and store the data in a list\n",
    "hotel_info = [info_box_template.format(**row) for index, row in itinerary_df.iterrows()]\n",
    "\n",
    "# Get the latitude and longitude from each row and store in a new DataFrame.\n",
    "locations = itinerary_df[[\"Lat\", \"Lng\"]]"
   ]
  },
  {
   "cell_type": "code",
   "execution_count": 24,
   "metadata": {},
   "outputs": [
    {
     "data": {
      "application/vnd.jupyter.widget-view+json": {
       "model_id": "f51193d2224d45bca00cf9ab54cf8ea7",
       "version_major": 2,
       "version_minor": 0
      },
      "text/plain": [
       "Figure(layout=FigureLayout(height='420px'))"
      ]
     },
     "metadata": {},
     "output_type": "display_data"
    }
   ],
   "source": [
    "# Add a marker layer for each city to the map.\n",
    "marker_layer = gmaps.marker_layer(locations, info_box_content=hotel_info)\n",
    "\n",
    "# Define a new figure object\n",
    "fig = gmaps.figure()\n",
    "\n",
    "# Add the layer to the map\n",
    "fig.add_layer(marker_layer)\n",
    "\n",
    "# Display the map\n",
    "fig"
   ]
  },
  {
   "cell_type": "code",
   "execution_count": null,
   "metadata": {},
   "outputs": [],
   "source": []
  }
 ],
 "metadata": {
  "kernelspec": {
   "display_name": "PythonData",
   "language": "python",
   "name": "pythondata"
  },
  "language_info": {
   "codemirror_mode": {
    "name": "ipython",
    "version": 3
   },
   "file_extension": ".py",
   "mimetype": "text/x-python",
   "name": "python",
   "nbconvert_exporter": "python",
   "pygments_lexer": "ipython3",
   "version": "3.9.12"
  },
  "latex_envs": {
   "LaTeX_envs_menu_present": true,
   "autoclose": false,
   "autocomplete": true,
   "bibliofile": "biblio.bib",
   "cite_by": "apalike",
   "current_citInitial": 1,
   "eqLabelWithNumbers": true,
   "eqNumInitial": 1,
   "hotkeys": {
    "equation": "Ctrl-E",
    "itemize": "Ctrl-I"
   },
   "labels_anchors": false,
   "latex_user_defs": false,
   "report_style_numbering": false,
   "user_envs_cfg": false
  }
 },
 "nbformat": 4,
 "nbformat_minor": 4
}
